{
 "cells": [
  {
   "cell_type": "markdown",
   "id": "fe12c203-e6a6-452c-a655-afb8a03a4ff5",
   "metadata": {},
   "source": [
    "# End of week 1 exercise\n",
    "\n",
    "To demonstrate your familiarity with OpenAI API, and also Ollama, build a tool that takes a technical question,  \n",
    "and responds with an explanation. This is a tool that you will be able to use yourself during the course!"
   ]
  },
  {
   "cell_type": "code",
   "execution_count": 4,
   "id": "c1070317-3ed9-4659-abe3-828943230e03",
   "metadata": {},
   "outputs": [],
   "source": [
    "# imports\n",
    "\n",
    "from dotenv import load_dotenv\n",
    "from IPython.display import Markdown, display, update_display\n",
    "from openai import OpenAI\n",
    "import ollama"
   ]
  },
  {
   "cell_type": "code",
   "execution_count": 5,
   "id": "4a456906-915a-4bfd-bb9d-57e505c5093f",
   "metadata": {},
   "outputs": [],
   "source": [
    "# constants\n",
    "\n",
    "MODEL_GPT = 'gpt-4o-mini'\n",
    "MODEL_LLAMA = 'llama3.2'"
   ]
  },
  {
   "cell_type": "code",
   "execution_count": 6,
   "id": "a8d7923c-5f28-4c30-8556-342d7c8497c1",
   "metadata": {},
   "outputs": [],
   "source": [
    "# set up environment\n",
    "\n",
    "load_dotenv()\n",
    "openai = OpenAI()\n"
   ]
  },
  {
   "cell_type": "code",
   "execution_count": 7,
   "id": "3f0d0137-52b0-47a8-81a8-11a90a010798",
   "metadata": {},
   "outputs": [],
   "source": [
    "# here is the question; type over this to ask something new\n",
    "\n",
    "question = \"\"\"\n",
    "Please explain what this code does and why:\n",
    "yield from {book.get(\"author\") for book in books if book.get(\"author\")}\n",
    "\"\"\""
   ]
  },
  {
   "cell_type": "code",
   "execution_count": 8,
   "id": "c1f8ef41-0809-4d0b-a8c4-0420ac4dc187",
   "metadata": {},
   "outputs": [],
   "source": [
    "# prompt\n",
    "\n",
    "system_prompts = \"You are a technical adviser who is very familair with best practices using python\"\n",
    "user_prompt= \"Please give a detail answer to \" + question"
   ]
  },
  {
   "cell_type": "code",
   "execution_count": 16,
   "id": "794aee96-84d2-4308-8dd2-6cab84e812a2",
   "metadata": {},
   "outputs": [],
   "source": [
    "messages = [\n",
    "    { \"role\": \"system\", \"content\": system_prompts },\n",
    "    { \"role\": \"user\", \"content\": user_prompt }\n",
    "]\n"
   ]
  },
  {
   "cell_type": "code",
   "execution_count": 20,
   "id": "7d84bb48-028b-42e9-a8c5-8867efd2a179",
   "metadata": {},
   "outputs": [
    {
     "data": {
      "text/markdown": [
       "The given line of code utilizes a combination of Python's `yield` statement and a generator expression to create a generator that yields authors from a collection of books. Let's break it down step-by-step to understand what it does and why.\n",
       "\n",
       "### Breakdown of the Code\n",
       "\n",
       "1. **Context: Generators and `yield` Statement**\n",
       "   - The keyword `yield` is used in Python to make a function a generator. A generator is a type of iterable, like a list or a tuple, but unlike lists, it doesn't store its contents in memory; instead, it generates the items on the fly, which is much more memory efficient for large datasets.\n",
       "\n",
       "2. **Using `yield from`**\n",
       "   - The statement `yield from <iterable>` is a way to yield all values from an iterable (like a list, set, or generator). It simplifies the code when you want to yield each item in an iterable as part of the generator’s output.\n",
       "\n",
       "3. **Set Comprehension**\n",
       "   - The expression `{book.get(\"author\") for book in books if book.get(\"author\")}` is a set comprehension.\n",
       "   - It iterates over a collection called `books`, which is presumably a list (or any iterable) of dictionary objects. Each dictionary represents a book and may contain a key called `\"author\"`.\n",
       "   - The `.get(\"author\")` method retrieves the value associated with the \"author\" key from each book dictionary. If the key doesn't exist or is `None`, it returns `None`.\n",
       "   - The `if book.get(\"author\")` condition ensures that only books with a valid author (i.e., non-`None` and implicitly non-empty) are considered for inclusion in the set.\n",
       "\n",
       "4. **The Resulting Set**\n",
       "   - This set comprehension creates a set containing unique author names from the `books`. The use of a set ensures that there are no duplicate author names; if two or more books are written by the same author, that author's name will appear only once in the resulting set.\n",
       "\n",
       "### Final Result\n",
       "The entire statement, `yield from {book.get(\"author\") for book in books if book.get(\"author\")}`, thus:\n",
       "- Generates a sequence of unique author names from the provided list of book dictionaries.\n",
       "- Each author is yielded one at a time, which can be iterated over in a loop or consumed by other routines without creating a full, potentially large list in memory.\n",
       "\n",
       "### Example Scenario\n",
       "Let's consider an example to illustrate this:\n",
       "\n",
       "python\n",
       "books = [\n",
       "    {\"title\": \"Book One\", \"author\": \"Alice\"},\n",
       "    {\"title\": \"Book Two\", \"author\": \"Bob\"},\n",
       "    {\"title\": \"Book Three\", \"author\": None},\n",
       "    {\"title\": \"Book Four\", \"author\": \"Alice\"},\n",
       "    {\"title\": \"Book Five\", \"author\": \"Charlie\"},\n",
       "]\n",
       "\n",
       "def unique_authors(books):\n",
       "    yield from {book.get(\"author\") for book in books if book.get(\"author\")}\n",
       "\n",
       "for author in unique_authors(books):\n",
       "    print(author)\n",
       "\n",
       "\n",
       "**Output:**\n",
       "\n",
       "Alice\n",
       "Charlie\n",
       "Bob\n",
       "\n",
       "\n",
       "### Summary\n",
       "- This line of code effectively extracts and yields unique author names from a list of books while handling the case where the author field might not exist or might be empty. Using `yield from` with a set comprehension is an elegant way to create an efficient generator that avoids duplicates and manages memory well, making it a best practice in scenarios where you're dealing with potentially large datasets."
      ],
      "text/plain": [
       "<IPython.core.display.Markdown object>"
      ]
     },
     "metadata": {},
     "output_type": "display_data"
    }
   ],
   "source": [
    "\n",
    "stream = openai.chat.completions.create(\n",
    "    model=MODEL_GPT,\n",
    "    messages=messages,\n",
    "    stream=True\n",
    ")\n",
    "\n",
    "response = \"\"\n",
    "display_handle = display(Markdown(\"\"), display_id=True)\n",
    "for chunk in stream:\n",
    "    response += chunk.choices[0].delta.content or ''\n",
    "    response = response.replace(\"```\",\"\").replace(\"markdown\", \"\")\n",
    "    update_display(Markdown(response), display_id=display_handle.display_id)"
   ]
  },
  {
   "cell_type": "code",
   "execution_count": 21,
   "id": "8f7c8ea8-4082-4ad0-8751-3301adcf6538",
   "metadata": {},
   "outputs": [
    {
     "data": {
      "text/markdown": [
       "**Breaking Down the Code**\n",
       "\n",
       "The given line of Python code uses several advanced features, including generators and dictionary methods. Let's break it down step by step:\n",
       "\n",
       "```python\n",
       "yield from {book.get(\"author\") for book in books if book.get(\"author\")}\n",
       "```\n",
       "\n",
       "1. **`yield from`**: This is a syntax feature introduced in Python 3.3, which allows us to delegate the iteration over a sub-generator to another generator.\n",
       "\n",
       "2. **`{...}`**: Inside curly brackets `{}`, we have a dictionary comprehension.\n",
       "\n",
       "3. **`book.get(\"author\")`**: For each book in `books`, this expression attempts to retrieve the value associated with the key `\"author\"` from the `book` dictionary. If the key is not present or if its value is an empty string (`\"\"`), it will return `None`.\n",
       "\n",
       "4. **`for book in books ...`**: This part of the code loops over each item in the `books` list and applies the expression to it.\n",
       "\n",
       "5. **`if book.get(\"author\")`**: The loop only includes items where the `\"author\"` key is present in the dictionary (`book`). If this condition is not met, the book will be skipped in the iteration.\n",
       "\n",
       "**What does it do?**\n",
       "\n",
       "The entire code snippet generates an iterable (i.e., a sequence or a generator) containing the author names of books that have their `author` fields populated.\n",
       "\n",
       "Here's what happens when you iterate over this expression:\n",
       "\n",
       "- For each book in `books`, Python tries to retrieve its author name.\n",
       "- If the `\"author\"` key is not present, it skips that book and moves on to the next one.\n",
       "- If the `\"author\"` key is present but has an empty string (`\"\"`), it also skips that book.\n",
       "- The resulting sequence contains only the names of books whose `author` fields are set.\n",
       "\n",
       "**Example Use Case**\n",
       "\n",
       "Here's an example where this code would be useful:\n",
       "\n",
       "```python\n",
       "# Sample dictionary representing a list of books with their authors\n",
       "books = [\n",
       "    {\"title\": \"Book 1\", \"author\": \"Author A\"},\n",
       "    {\"title\": \"Book 2\", \"author\": \"\"},\n",
       "    {\"title\": \"Book 3\", \"author\": \"Author C\"}\n",
       "]\n",
       "\n",
       "# Using the given code to get the author names\n",
       "authors = yield from {book.get(\"author\") for book in books if book.get(\"author\")}\n",
       "\n",
       "for author in authors:\n",
       "    print(author)\n",
       "```\n",
       "\n",
       "Output:\n",
       "\n",
       "```\n",
       "Author A\n",
       "Author C\n",
       "```"
      ],
      "text/plain": [
       "<IPython.core.display.Markdown object>"
      ]
     },
     "metadata": {},
     "output_type": "display_data"
    }
   ],
   "source": [
    "# Get Llama 3.2 to answer\n",
    "\n",
    "response = ollama.chat(model=MODEL_LLAMA, messages=messages)\n",
    "reply = response['message']['content']\n",
    "display(Markdown(reply))"
   ]
  },
  {
   "cell_type": "code",
   "execution_count": null,
   "id": "0e250ea9-13e6-4d8a-8468-fcad125d4de1",
   "metadata": {},
   "outputs": [],
   "source": []
  }
 ],
 "metadata": {
  "kernelspec": {
   "display_name": "Python 3 (ipykernel)",
   "language": "python",
   "name": "python3"
  },
  "language_info": {
   "codemirror_mode": {
    "name": "ipython",
    "version": 3
   },
   "file_extension": ".py",
   "mimetype": "text/x-python",
   "name": "python",
   "nbconvert_exporter": "python",
   "pygments_lexer": "ipython3",
   "version": "3.11.11"
  }
 },
 "nbformat": 4,
 "nbformat_minor": 5
}
