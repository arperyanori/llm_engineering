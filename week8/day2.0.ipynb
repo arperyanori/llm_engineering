{
 "cells": [
  {
   "cell_type": "markdown",
   "id": "046fd8f8-ad14-4c7f-b759-fec52f5b5306",
   "metadata": {},
   "source": [
    "# The Price is Right\n",
    "\n",
    "Today we build a more complex solution for estimating prices of goods.\n",
    "\n",
    "1. This notebook: create a RAG database with our 400,000 training data\n",
    "2. Day 2.1 notebook: visualize in 2D\n",
    "3. Day 2.2 notebook: visualize in 3D\n",
    "4. Day 2.3 notebook: build and test a RAG pipeline with GPT-4o-mini\n",
    "5. Day 2.4 notebook: (a) bring back our Random Forest pricer (b) Create a Ensemble pricer that allows contributions from all the pricers\n",
    "\n",
    "Phew! That's a lot to get through in one day!\n",
    "\n",
    "## PLEASE NOTE:\n",
    "\n",
    "We already have a very powerful product estimator with our proprietary, fine-tuned LLM. Most people would be very satisfied with that! The main reason we're adding these extra steps is to deepen your expertise with RAG and with Agentic workflows.\n"
   ]
  },
  {
   "cell_type": "code",
   "execution_count": 8,
   "id": "993a2a24-1a58-42be-8034-6d116fb8d786",
   "metadata": {},
   "outputs": [],
   "source": [
    "# imports\n",
    "\n",
    "import os\n",
    "import re\n",
    "import math\n",
    "import json\n",
    "from tqdm import tqdm\n",
    "import random\n",
    "from dotenv import load_dotenv\n",
    "from huggingface_hub import login\n",
    "import numpy as np\n",
    "import pickle\n",
    "from sentence_transformers import SentenceTransformer\n",
    "from datasets import load_dataset\n",
    "import chromadb\n",
    "from sklearn.manifold import TSNE\n",
    "import plotly.graph_objects as go"
   ]
  },
  {
   "cell_type": "code",
   "execution_count": 9,
   "id": "2359ccc0-dbf2-4b1e-9473-e472b32f548b",
   "metadata": {},
   "outputs": [],
   "source": [
    "# environment\n",
    "\n",
    "load_dotenv(override=True)\n",
    "os.environ['OPENAI_API_KEY'] = os.getenv('OPENAI_API_KEY', 'your-key-if-not-using-env')\n",
    "os.environ['HF_TOKEN'] = os.getenv('HF_TOKEN', 'your-key-if-not-using-env')\n",
    "DB = \"products_vectorstore\""
   ]
  },
  {
   "cell_type": "code",
   "execution_count": 10,
   "id": "645167e6-cf0d-42d2-949f-1089a25a2841",
   "metadata": {},
   "outputs": [
    {
     "name": "stderr",
     "output_type": "stream",
     "text": [
      "Note: Environment variable`HF_TOKEN` is set and is the current active token independently from the token you've just configured.\n"
     ]
    }
   ],
   "source": [
    "# Log in to HuggingFace\n",
    "\n",
    "hf_token = os.environ['HF_TOKEN']\n",
    "login(hf_token, add_to_git_credential=True)"
   ]
  },
  {
   "cell_type": "code",
   "execution_count": 11,
   "id": "8491f550-df4a-4c8f-a260-a7a419e8efb6",
   "metadata": {},
   "outputs": [],
   "source": [
    "# Another import after Logging in to Hugging Face - thank you Trung N.!\n",
    "\n",
    "from items import Item"
   ]
  },
  {
   "cell_type": "markdown",
   "id": "3d4995a4-f67f-4871-87df-8c6439b06366",
   "metadata": {},
   "source": [
    "## Back to the pkl files\n",
    "\n",
    "Much as we enjoyed data curating in week 6, we probably don't want to go through that whole process again!\n",
    "\n",
    "Let's reuse the pkl files we created then. Either copy the files `train.pkl` and `test.pkl` from the Week 6 folder into this Week 8 folder, or you can also download them from here:\n",
    "\n",
    "https://drive.google.com/drive/folders/1f_IZGybvs9o0J5sb3xmtTEQB3BXllzrW?usp=drive_link"
   ]
  },
  {
   "cell_type": "code",
   "execution_count": 12,
   "id": "688bd995-ec3e-43cd-8179-7fe14b275877",
   "metadata": {},
   "outputs": [],
   "source": [
    "# With train.pkl in this folder, you can run this:\n",
    "\n",
    "with open('train.pkl', 'rb') as file:\n",
    "    train = pickle.load(file)"
   ]
  },
  {
   "cell_type": "code",
   "execution_count": 13,
   "id": "2817eaf5-4302-4a18-9148-d1062e3b3dbb",
   "metadata": {},
   "outputs": [
    {
     "data": {
      "text/plain": [
       "'How much does this cost to the nearest dollar?\\n\\nDelphi FG0166 Fuel Pump Module\\nDelphi brings 80 years of OE Heritage into each Delphi pump, ensuring quality and fitment for each Delphi part. Part is validated, tested and matched to the right vehicle application Delphi brings 80 years of OE Heritage into each Delphi assembly, ensuring quality and fitment for each Delphi part Always be sure to check and clean fuel tank to avoid unnecessary returns Rigorous OE-testing ensures the pump can withstand extreme temperatures Brand Delphi, Fit Type Vehicle Specific Fit, Dimensions LxWxH 19.7 x 7.7 x 5.1 inches, Weight 2.2 Pounds, Auto Part Position Unknown, Operation Mode Mechanical, Manufacturer Delphi, Model FUEL PUMP, Dimensions 19.7\\n\\nPrice is $227.00'"
      ]
     },
     "execution_count": 13,
     "metadata": {},
     "output_type": "execute_result"
    }
   ],
   "source": [
    "train[0].prompt"
   ]
  },
  {
   "cell_type": "markdown",
   "id": "9ae1ba16-7e80-4096-ac88-64ef8edcc80c",
   "metadata": {},
   "source": [
    "# Now create a Chroma Datastore\n",
    "\n",
    "In Week 5, we created a Chroma datastore with 123 documents representing chunks of objects from our fictional company Insurellm.\n",
    "\n",
    "Now we will create a Chroma datastore with 400,000 products from our training dataset! It's getting real!\n",
    "\n",
    "Note that we won't be using LangChain, but the API is very straightforward and consistent with before.\n",
    "\n",
    "Special note: if Chroma crashes and you're a Windows user, you should try rolling back to an earlier version of the Chroma library with:  \n",
    "`!pip install chromadb==0.5.0`  \n",
    "With many thanks to student Kelly Z. for finding this out and pointing to the GitHub issue [here](https://github.com/chroma-core/chroma/issues/2513). \n",
    "But try first without reverting Chroma."
   ]
  },
  {
   "cell_type": "code",
   "execution_count": 23,
   "id": "f4aab95e-d719-4476-b6e7-e248120df25a",
   "metadata": {},
   "outputs": [],
   "source": [
    "client = chromadb.PersistentClient(path=DB)"
   ]
  },
  {
   "cell_type": "code",
   "execution_count": 24,
   "id": "5f95dafd-ab80-464e-ba8a-dec7a2424780",
   "metadata": {},
   "outputs": [
    {
     "name": "stdout",
     "output_type": "stream",
     "text": [
      "Deleted existing collection: products\n"
     ]
    }
   ],
   "source": [
    "# Check if the collection exists and delete it if it does\n",
    "collection_name = \"products\"\n",
    "\n",
    "# For old versions of Chroma, use this line instead of the subsequent one\n",
    "# existing_collection_names = [collection.name for collection in client.list_collections()]\n",
    "existing_collection_names = client.list_collections()\n",
    "\n",
    "if collection_name in existing_collection_names:\n",
    "    client.delete_collection(collection_name)\n",
    "    print(f\"Deleted existing collection: {collection_name}\")\n",
    "\n",
    "collection = client.create_collection(collection_name)"
   ]
  },
  {
   "cell_type": "markdown",
   "id": "d392ed28-203d-4e73-be87-ac1390bdf722",
   "metadata": {},
   "source": [
    "# Introducing the SentenceTransfomer\n",
    "\n",
    "The all-MiniLM is a very useful model from HuggingFace that maps sentences & paragraphs to a 384 dimensional dense vector space and is ideal for tasks like semantic search.\n",
    "\n",
    "https://huggingface.co/sentence-transformers/all-MiniLM-L6-v2\n",
    "\n",
    "It can run pretty quickly locally.\n",
    "\n",
    "Last time we used OpenAI embeddings to produce vector embeddings. Benefits compared to OpenAI embeddings:\n",
    "1. It's free and fast!\n",
    "3. We can run it locally, so the data never leaves our box - might be useful if you're building a personal RAG\n"
   ]
  },
  {
   "cell_type": "code",
   "execution_count": 16,
   "id": "a87db200-d19d-44bf-acbd-15c45c70f5c9",
   "metadata": {},
   "outputs": [
    {
     "data": {
      "application/vnd.jupyter.widget-view+json": {
       "model_id": "949d092b96574613a991eafca3022076",
       "version_major": 2,
       "version_minor": 0
      },
      "text/plain": [
       "modules.json:   0%|          | 0.00/349 [00:00<?, ?B/s]"
      ]
     },
     "metadata": {},
     "output_type": "display_data"
    },
    {
     "data": {
      "application/vnd.jupyter.widget-view+json": {
       "model_id": "94631a6d56a4467599f76a9e0f689691",
       "version_major": 2,
       "version_minor": 0
      },
      "text/plain": [
       "config_sentence_transformers.json:   0%|          | 0.00/116 [00:00<?, ?B/s]"
      ]
     },
     "metadata": {},
     "output_type": "display_data"
    },
    {
     "data": {
      "application/vnd.jupyter.widget-view+json": {
       "model_id": "4603187de16b493ca4912efe084d5c75",
       "version_major": 2,
       "version_minor": 0
      },
      "text/plain": [
       "README.md: 0.00B [00:00, ?B/s]"
      ]
     },
     "metadata": {},
     "output_type": "display_data"
    },
    {
     "data": {
      "application/vnd.jupyter.widget-view+json": {
       "model_id": "785346049225491c94d5a77fc0b31706",
       "version_major": 2,
       "version_minor": 0
      },
      "text/plain": [
       "sentence_bert_config.json:   0%|          | 0.00/53.0 [00:00<?, ?B/s]"
      ]
     },
     "metadata": {},
     "output_type": "display_data"
    },
    {
     "data": {
      "application/vnd.jupyter.widget-view+json": {
       "model_id": "c82afc3c084f4175b147b494a967b87d",
       "version_major": 2,
       "version_minor": 0
      },
      "text/plain": [
       "config.json:   0%|          | 0.00/612 [00:00<?, ?B/s]"
      ]
     },
     "metadata": {},
     "output_type": "display_data"
    },
    {
     "name": "stderr",
     "output_type": "stream",
     "text": [
      "Xet Storage is enabled for this repo, but the 'hf_xet' package is not installed. Falling back to regular HTTP download. For better performance, install the package with: `pip install huggingface_hub[hf_xet]` or `pip install hf_xet`\n"
     ]
    },
    {
     "data": {
      "application/vnd.jupyter.widget-view+json": {
       "model_id": "3923c04c648c4c06852f3ac29a71da26",
       "version_major": 2,
       "version_minor": 0
      },
      "text/plain": [
       "model.safetensors:   0%|          | 0.00/90.9M [00:00<?, ?B/s]"
      ]
     },
     "metadata": {},
     "output_type": "display_data"
    },
    {
     "data": {
      "application/vnd.jupyter.widget-view+json": {
       "model_id": "ffe1394a38bc43ddbecfd7af48cd948d",
       "version_major": 2,
       "version_minor": 0
      },
      "text/plain": [
       "tokenizer_config.json:   0%|          | 0.00/350 [00:00<?, ?B/s]"
      ]
     },
     "metadata": {},
     "output_type": "display_data"
    },
    {
     "data": {
      "application/vnd.jupyter.widget-view+json": {
       "model_id": "7c438e08680b41f4acd89f8361a2d3a4",
       "version_major": 2,
       "version_minor": 0
      },
      "text/plain": [
       "vocab.txt: 0.00B [00:00, ?B/s]"
      ]
     },
     "metadata": {},
     "output_type": "display_data"
    },
    {
     "data": {
      "application/vnd.jupyter.widget-view+json": {
       "model_id": "df988dcb1a3d49d2a6c69ab2f30ab903",
       "version_major": 2,
       "version_minor": 0
      },
      "text/plain": [
       "tokenizer.json: 0.00B [00:00, ?B/s]"
      ]
     },
     "metadata": {},
     "output_type": "display_data"
    },
    {
     "data": {
      "application/vnd.jupyter.widget-view+json": {
       "model_id": "ad81799cba3b4b7e8c4517772b8e1b20",
       "version_major": 2,
       "version_minor": 0
      },
      "text/plain": [
       "special_tokens_map.json:   0%|          | 0.00/112 [00:00<?, ?B/s]"
      ]
     },
     "metadata": {},
     "output_type": "display_data"
    },
    {
     "data": {
      "application/vnd.jupyter.widget-view+json": {
       "model_id": "96b1c034d6584e8485239d4d4a5c7f1b",
       "version_major": 2,
       "version_minor": 0
      },
      "text/plain": [
       "config.json:   0%|          | 0.00/190 [00:00<?, ?B/s]"
      ]
     },
     "metadata": {},
     "output_type": "display_data"
    }
   ],
   "source": [
    "model = SentenceTransformer('sentence-transformers/all-MiniLM-L6-v2')"
   ]
  },
  {
   "cell_type": "code",
   "execution_count": 17,
   "id": "9b23a025-4c35-4d3a-96ad-b956cad37b0a",
   "metadata": {},
   "outputs": [
    {
     "data": {
      "text/plain": [
       "array([-9.46715251e-02,  4.27618921e-02,  5.51619977e-02, -5.10985963e-04,\n",
       "        1.16203222e-02, -6.80129975e-02,  2.76405830e-02,  6.06974177e-02,\n",
       "        2.88530272e-02, -1.74128506e-02, -4.94346246e-02,  2.30993256e-02,\n",
       "       -1.28614446e-02, -4.31402512e-02,  2.17509586e-02,  4.26548831e-02,\n",
       "        5.10501452e-02, -7.79728293e-02, -1.23247199e-01,  3.67455296e-02,\n",
       "        4.54116473e-03,  9.47938487e-02, -5.53098544e-02,  1.70640815e-02,\n",
       "       -2.92872693e-02, -4.47124280e-02,  2.06784010e-02,  6.39319718e-02,\n",
       "        2.27428544e-02,  4.87789623e-02, -2.33507273e-03,  4.72858623e-02,\n",
       "       -2.86259130e-02,  2.30624638e-02,  2.45130658e-02,  3.95681411e-02,\n",
       "       -4.33176644e-02, -1.02316596e-01,  2.79879919e-03,  2.39305366e-02,\n",
       "        1.61556434e-02, -8.99082143e-03,  2.07255948e-02,  6.40122443e-02,\n",
       "        6.89178631e-02, -6.98361024e-02,  2.89752777e-03, -8.10989439e-02,\n",
       "        1.71121825e-02,  2.50663050e-03, -1.06529079e-01, -4.87732589e-02,\n",
       "       -1.67762358e-02, -2.28662062e-02,  1.14816628e-01,  4.87413183e-02,\n",
       "       -1.64962355e-02, -6.90832511e-02,  1.13612123e-01, -7.18485788e-02,\n",
       "       -9.01570842e-02,  3.97852864e-06, -8.66770148e-02, -4.05916497e-02,\n",
       "        3.71317230e-02, -1.77618619e-02, -5.57464138e-02, -4.57097888e-02,\n",
       "       -5.43141551e-02, -4.00611609e-02, -4.60227244e-02,  2.82194167e-02,\n",
       "       -2.33606603e-02,  1.44406753e-02, -1.52777312e-02, -4.34327833e-02,\n",
       "        6.81274161e-02,  8.21894780e-02,  7.83885550e-03, -2.85972916e-02,\n",
       "        6.14309758e-02, -4.92685102e-02,  3.27054947e-03, -2.72682793e-02,\n",
       "       -4.59346175e-02, -2.60167979e-02,  5.70649095e-02, -5.86446782e-04,\n",
       "       -4.37077023e-02, -2.47762509e-04, -8.73550177e-02,  3.48776691e-02,\n",
       "        1.39327357e-02, -1.60043649e-02,  2.86958423e-02, -9.48595330e-02,\n",
       "        9.40612853e-02,  5.92686422e-02, -8.65014419e-02,  1.45011321e-01,\n",
       "        2.35388055e-02,  3.43325324e-02,  2.51563150e-04,  7.15541169e-02,\n",
       "       -3.12182326e-02,  3.86665538e-02, -2.47745812e-02,  6.52673841e-02,\n",
       "       -8.28817412e-02, -2.80247144e-02,  9.34541319e-03, -7.85534084e-03,\n",
       "        5.30728437e-02,  2.96895634e-02,  3.27329040e-02,  4.94737439e-02,\n",
       "        2.52208728e-02,  4.67068553e-02,  5.03403656e-02, -7.23744854e-02,\n",
       "        2.54435707e-02, -3.67216095e-02,  1.27569679e-02,  1.46064470e-02,\n",
       "        2.11492162e-02, -5.56910299e-02, -9.18515027e-03, -5.63400254e-34,\n",
       "        9.58769172e-02,  5.94578236e-02,  5.11445403e-02,  3.36359479e-02,\n",
       "       -1.34413745e-02, -2.77203172e-02, -3.48436050e-02,  1.80352181e-02,\n",
       "       -2.53211241e-02,  6.73584780e-03,  5.47840595e-02, -3.60573567e-02,\n",
       "       -5.20870984e-02, -2.90345289e-02,  4.38962504e-03,  6.50023222e-02,\n",
       "        3.07485685e-02,  2.00220756e-02,  1.73040305e-03,  2.96723912e-03,\n",
       "        3.40960780e-03, -6.78144768e-02,  3.41304503e-02,  8.37863144e-03,\n",
       "        5.39904051e-02,  2.70389523e-02,  7.84120336e-02, -1.30136237e-01,\n",
       "        4.84649949e-02,  5.14179543e-02, -7.94678275e-03,  5.57884201e-03,\n",
       "       -5.31025939e-02,  3.81298289e-02, -3.05513106e-02, -7.69778639e-02,\n",
       "        1.20531032e-02, -4.08992991e-02, -8.69359225e-02,  6.38056621e-02,\n",
       "        1.68674607e-02,  1.68734847e-03,  6.28893971e-02, -1.67711619e-02,\n",
       "        2.15586759e-02,  7.10053893e-04,  2.81026307e-03, -8.89794156e-03,\n",
       "       -1.80887207e-02, -2.16217283e-02, -5.59150167e-02,  1.78774279e-02,\n",
       "       -9.27093923e-02,  7.27913203e-03, -1.27753615e-01, -4.86937016e-02,\n",
       "        1.45872021e-02, -1.62751693e-02,  6.75622150e-02,  3.87702547e-02,\n",
       "        7.23295286e-02,  9.14992392e-02, -9.65291783e-02,  4.84791771e-02,\n",
       "       -1.06274202e-01, -1.05042132e-02,  8.90350193e-02, -8.07525888e-02,\n",
       "        7.87080750e-02, -2.04919092e-02, -5.55080995e-02, -3.31532694e-02,\n",
       "       -2.14429609e-02,  4.94699962e-02, -7.05119595e-02,  6.63998723e-02,\n",
       "        7.39671588e-02, -2.70116702e-03,  1.62262674e-02, -3.98228243e-02,\n",
       "        5.94092458e-02, -7.14367861e-03, -3.33479494e-02,  2.30419878e-02,\n",
       "        1.87185425e-02, -6.15725182e-02, -8.55425431e-04, -1.05786704e-01,\n",
       "       -8.43619108e-02, -3.92993875e-02, -3.16447280e-02,  6.60644770e-02,\n",
       "        9.41816047e-02, -8.35983008e-02,  9.50882491e-03,  1.25505316e-34,\n",
       "        6.38197586e-02,  2.11371332e-02, -1.65899470e-02,  1.88642070e-02,\n",
       "       -5.57018220e-02,  1.82812253e-03, -1.37587339e-02,  8.16278830e-02,\n",
       "       -9.13296789e-02,  7.06855878e-02,  6.79991543e-02, -5.44535890e-02,\n",
       "        3.80394310e-02,  3.80512374e-03,  1.03689849e-01,  7.32806860e-04,\n",
       "        2.95661986e-02,  4.19423729e-02, -1.20444387e-01,  1.24932081e-02,\n",
       "       -5.53505793e-02,  1.75228417e-02, -2.28164271e-02, -5.79299368e-02,\n",
       "        9.42935515e-03, -5.42278029e-03, -3.94942518e-03,  2.82349028e-02,\n",
       "       -1.28066927e-01, -1.31303938e-02,  7.42957592e-02, -1.74530167e-02,\n",
       "       -9.72760022e-02,  8.25617928e-03,  2.06901357e-02, -5.29772509e-03,\n",
       "       -1.37696052e-02, -3.50973234e-02,  1.74978711e-02, -1.76232550e-02,\n",
       "       -6.50825128e-02, -3.84676047e-02, -8.76396894e-02,  3.21292207e-02,\n",
       "        2.55026133e-03, -2.09378563e-02,  5.55308945e-02,  2.57095862e-02,\n",
       "       -2.94735823e-02,  1.25047006e-02, -6.83466941e-02, -8.00623894e-02,\n",
       "       -1.46906944e-02,  1.03744781e-02, -8.51862952e-02, -1.10540064e-02,\n",
       "        2.14596167e-02,  4.08609658e-02,  3.31646129e-02, -2.76757292e-02,\n",
       "       -2.01877132e-02,  8.98884423e-03,  3.92048508e-02,  1.15103364e-01,\n",
       "        5.50441220e-02,  2.72754841e-02, -1.09526731e-01, -1.72623079e-02,\n",
       "        1.33437412e-02, -1.73702389e-02, -5.04373899e-03, -2.00292841e-02,\n",
       "        1.16672352e-01, -1.84323024e-02,  3.70628089e-02,  1.60884615e-02,\n",
       "        3.48831005e-02,  5.50575070e-02, -6.60790736e-03,  7.06828535e-02,\n",
       "        4.07850035e-02, -1.43314842e-02, -2.85444176e-03,  2.74253059e-02,\n",
       "       -4.26768847e-02,  1.26583297e-02,  3.34343202e-02,  1.62644871e-02,\n",
       "        1.19263800e-02, -2.92119067e-02,  2.73977797e-02,  3.44304629e-02,\n",
       "        2.52832156e-02,  3.07514146e-02,  3.22557576e-02, -1.74628543e-08,\n",
       "       -1.52689964e-02,  5.37681580e-03,  1.41246542e-01,  5.08366227e-02,\n",
       "        5.32257296e-02,  9.67938974e-02,  4.33674008e-02, -6.48315204e-03,\n",
       "        1.58604290e-02,  4.05630618e-02,  6.94985166e-02,  6.04905263e-02,\n",
       "       -6.26189262e-02, -3.96144353e-02,  1.10648841e-01,  1.67735852e-02,\n",
       "       -7.68697774e-03,  2.59616207e-02, -5.28792888e-02, -2.22318526e-02,\n",
       "        1.74595881e-02,  4.75340076e-02,  3.27675045e-02, -4.59685735e-02,\n",
       "        2.01770142e-02, -1.60875693e-02, -1.58614181e-02, -1.66658405e-02,\n",
       "       -3.05246860e-02, -3.87907587e-02, -1.27654094e-02,  6.57610446e-02,\n",
       "       -2.22503114e-02, -9.44992714e-03,  2.32080203e-02,  2.66038757e-02,\n",
       "        2.14203820e-02, -7.54582090e-03,  8.84752199e-02, -9.43513289e-02,\n",
       "       -5.74870408e-02, -7.77097568e-02,  1.95793179e-03, -1.50347808e-02,\n",
       "       -8.08497332e-03,  1.88217442e-02,  8.42521898e-03, -3.78591679e-02,\n",
       "        1.24534974e-02, -7.94996023e-02, -2.15789676e-02,  1.20277209e-02,\n",
       "        1.74871702e-02,  8.74479041e-02,  6.64091781e-02,  3.13737243e-02,\n",
       "       -1.00628510e-02,  2.07701009e-02, -5.20162918e-02, -8.91338009e-03,\n",
       "        1.48542315e-01, -2.51267618e-03,  9.93156061e-02,  2.34928615e-02],\n",
       "      dtype=float32)"
      ]
     },
     "execution_count": 17,
     "metadata": {},
     "output_type": "execute_result"
    }
   ],
   "source": [
    "# Pass in a list of texts, get back a numpy array of vectors\n",
    "\n",
    "vector = model.encode([\"Well hi there\"])[0]\n",
    "vector"
   ]
  },
  {
   "cell_type": "code",
   "execution_count": 18,
   "id": "8adde63f-e732-4f7c-bba9-f8b2a469f14e",
   "metadata": {},
   "outputs": [],
   "source": [
    "# Quick sidebar - extra to the videos - a function to compare vectors\n",
    "\n",
    "import numpy as np\n",
    "def cosine_similarity(a, b):\n",
    "    return np.dot(a, b) / (np.linalg.norm(a) * np.linalg.norm(b))\n",
    "\n",
    "def how_similar(text1, text2):\n",
    "    vector1, vector2 = model.encode([text1, text2])\n",
    "    similarity = cosine_similarity(vector1, vector2)\n",
    "    print(f\"Similarity between {text1} and {text2} is {similarity*100:.1f}%\")"
   ]
  },
  {
   "cell_type": "code",
   "execution_count": 19,
   "id": "2f9c8d19-6993-42e7-afd6-4c61ffc19419",
   "metadata": {
    "scrolled": true
   },
   "outputs": [
    {
     "name": "stdout",
     "output_type": "stream",
     "text": [
      "Similarity between Java and C++ is 50.7%\n",
      "Similarity between Java and mug is 25.8%\n",
      "Similarity between Cup of Java and mug is 49.3%\n"
     ]
    }
   ],
   "source": [
    "# And let's see how adding a few words to the context can change things up!\n",
    "\n",
    "how_similar(\"Java\", \"C++\")\n",
    "how_similar(\"Java\", \"mug\")\n",
    "how_similar(\"Cup of Java\", \"mug\")"
   ]
  },
  {
   "cell_type": "code",
   "execution_count": 20,
   "id": "38de1bf8-c9b5-45b4-9f4b-86af93b3f80d",
   "metadata": {},
   "outputs": [],
   "source": [
    "# OK back to the main story - let's make something we can vectorize\n",
    "\n",
    "def description(item):\n",
    "    text = item.prompt.replace(\"How much does this cost to the nearest dollar?\\n\\n\", \"\")\n",
    "    return text.split(\"\\n\\nPrice is $\")[0]"
   ]
  },
  {
   "cell_type": "code",
   "execution_count": 21,
   "id": "8c1205bd-4692-44ef-8ea4-69f255354537",
   "metadata": {},
   "outputs": [
    {
     "data": {
      "text/plain": [
       "'Delphi FG0166 Fuel Pump Module\\nDelphi brings 80 years of OE Heritage into each Delphi pump, ensuring quality and fitment for each Delphi part. Part is validated, tested and matched to the right vehicle application Delphi brings 80 years of OE Heritage into each Delphi assembly, ensuring quality and fitment for each Delphi part Always be sure to check and clean fuel tank to avoid unnecessary returns Rigorous OE-testing ensures the pump can withstand extreme temperatures Brand Delphi, Fit Type Vehicle Specific Fit, Dimensions LxWxH 19.7 x 7.7 x 5.1 inches, Weight 2.2 Pounds, Auto Part Position Unknown, Operation Mode Mechanical, Manufacturer Delphi, Model FUEL PUMP, Dimensions 19.7'"
      ]
     },
     "execution_count": 21,
     "metadata": {},
     "output_type": "execute_result"
    }
   ],
   "source": [
    "description(train[0])"
   ]
  },
  {
   "cell_type": "markdown",
   "id": "16b4ef1f-c696-4a01-b011-00fbccbc1a56",
   "metadata": {},
   "source": [
    "## Now we populate our RAG datastore\n",
    "\n",
    "The next cell populates the 400,000 items in Chroma.\n",
    "\n",
    "Feel free to reduce the number of documents if this takes too long! You can change to:  \n",
    "`NUMBER_OF_DOCUMENTS = 20000`  \n",
    "And that's plenty for a perfectly good RAG pipeline.\n",
    "\n",
    "Just note that if you interrupt the below cell while it's running, you might need to clear out the Chroma datastore (by rerunning the earlier cell that deletes the collection), before you run it again. Otherwise it will complain that there are existing documents with the same ID."
   ]
  },
  {
   "cell_type": "code",
   "execution_count": 25,
   "id": "8c79e2fe-1f50-4ebf-9a93-34f3088f2996",
   "metadata": {},
   "outputs": [
    {
     "name": "stderr",
     "output_type": "stream",
     "text": [
      "100%|███████████████████████████████████████████████████████████████████████████████████████████████████████████████████████████████████████████████████| 20/20 [15:24<00:00, 46.23s/it]\n"
     ]
    }
   ],
   "source": [
    "# NUMBER_OF_DOCUMENTS = len(train)\n",
    "\n",
    "# Uncomment if you'd rather not wait for the full 400,000\n",
    "NUMBER_OF_DOCUMENTS = 20000\n",
    "\n",
    "for i in tqdm(range(0, NUMBER_OF_DOCUMENTS, 1000)):\n",
    "    documents = [description(item) for item in train[i: i+1000]]\n",
    "    vectors = model.encode(documents).astype(float).tolist()\n",
    "    metadatas = [{\"category\": item.category, \"price\": item.price} for item in train[i: i+1000]]\n",
    "    ids = [f\"doc_{j}\" for j in range(i, i+len(documents))]\n",
    "    collection.add(\n",
    "        ids=ids,\n",
    "        documents=documents,\n",
    "        embeddings=vectors,\n",
    "        metadatas=metadatas\n",
    "    )"
   ]
  },
  {
   "cell_type": "code",
   "execution_count": null,
   "id": "f04f1b20-05ed-461d-b728-d7729125502a",
   "metadata": {},
   "outputs": [],
   "source": []
  }
 ],
 "metadata": {
  "kernelspec": {
   "display_name": "Python 3 (ipykernel)",
   "language": "python",
   "name": "python3"
  },
  "language_info": {
   "codemirror_mode": {
    "name": "ipython",
    "version": 3
   },
   "file_extension": ".py",
   "mimetype": "text/x-python",
   "name": "python",
   "nbconvert_exporter": "python",
   "pygments_lexer": "ipython3",
   "version": "3.9.6"
  }
 },
 "nbformat": 4,
 "nbformat_minor": 5
}
